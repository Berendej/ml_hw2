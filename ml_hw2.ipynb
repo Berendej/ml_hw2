{
  "nbformat": 4,
  "nbformat_minor": 0,
  "metadata": {
    "colab": {
      "provenance": [],
      "authorship_tag": "ABX9TyPrMqlWB5r5O8/AzaqY6D9Q",
      "include_colab_link": true
    },
    "kernelspec": {
      "name": "python3",
      "display_name": "Python 3"
    },
    "language_info": {
      "name": "python"
    }
  },
  "cells": [
    {
      "cell_type": "markdown",
      "metadata": {
        "id": "view-in-github",
        "colab_type": "text"
      },
      "source": [
        "<a href=\"https://colab.research.google.com/github/Berendej/ml_hw2/blob/main/ml_hw2.ipynb\" target=\"_parent\"><img src=\"https://colab.research.google.com/assets/colab-badge.svg\" alt=\"Open In Colab\"/></a>"
      ]
    },
    {
      "cell_type": "code",
      "execution_count": null,
      "metadata": {
        "id": "56GAKAJU_UOM"
      },
      "outputs": [],
      "source": []
    },
    {
      "cell_type": "markdown",
      "source": [
        "Пользователь вводит целое число, программа складывает все\n",
        "цифры числа, с полученным числом — то же самое, и так до\n",
        "тех пор, пока не получится однозначное число.\n",
        "545 -> 5\n",
        "12345 -> 6\n"
      ],
      "metadata": {
        "id": "c45FAtR3_he5"
      }
    },
    {
      "cell_type": "code",
      "source": [
        "import sys\n",
        "\n",
        "def sum_dig(n):\n",
        "    s = str(n)\n",
        "    sum = 0\n",
        "    for ch in s:\n",
        "        sum += int(ch)\n",
        "    return sum\n",
        "\n",
        "def digest(n):\n",
        "    su = sum_dig(n)\n",
        "    while su > 9 :\n",
        "        su = sum_dig(su)\n",
        "    return su\n",
        "\n",
        "def test():\n",
        "    if digest(545) != 5:\n",
        "        return False\n",
        "    if digest(12345) != 6:\n",
        "        return False\n",
        "    return True\n",
        "\n",
        "if not test():\n",
        "    print(\"sorry it doesn't work\")\n",
        "    sys.exit(0)\n",
        "\n",
        "n = input(\"enter number \")\n",
        "if not n.isdigit():\n",
        "    print('wrong input')\n",
        "    sys.exit(0)\n",
        "\n",
        "d = digest( int(n))\n",
        "print(f\"digest {d}\")\n"
      ],
      "metadata": {
        "colab": {
          "base_uri": "https://localhost:8080/"
        },
        "id": "7cbbeItf_zry",
        "outputId": "c7b05f6f-31f3-43c4-b29d-8d18d44ee445"
      },
      "execution_count": 1,
      "outputs": [
        {
          "output_type": "stream",
          "name": "stdout",
          "text": [
            "enter number 1234\n",
            "digest 1\n"
          ]
        }
      ]
    },
    {
      "cell_type": "markdown",
      "source": [
        "Кинотеатр. Дан список списков, каждый вложенный список состоит из 1 и 0, количество вложенных списков — количество рядов. Пользователь вводит, сколько билетов ему требуется. Программа должна найти ряд, где можно приобрести нужное количество билетов (места должны быть рядом). Если таких рядов несколько, то ближайший к экрану (ближайшим считается нулевой ряд). Если таких мест нет, то вывести False.\n",
        "Пример:\n",
        "[[0,1,1,0], [1,0,0,0], [0,1,0,0]], 2 -> 1\n",
        "[[0,1,1,0], [1,0,1,0], [1,1,0,1]], 2 -> False"
      ],
      "metadata": {
        "id": "6daHvtv-ALXD"
      }
    },
    {
      "cell_type": "code",
      "source": [
        "import sys\n",
        "\n",
        "ex1 = [[0,1,1,0], [1,0,0,0], [0,1,0,0]] #, 2 -> 1\n",
        "ex2 = [[0,1,1,0], [1,0,1,0], [1,1,0,1]] #, 2 -> False\n",
        "\n",
        "myex1 = [[0,0,0,0,0,1,1,0], [1,0,0,0], [0,1,0,0,0,0,0,0,0]] # 7 -> 2\n",
        "myex2 = [[0,1,1,0], [1,0,1,0], [1,1,0,1,1,1,1,1,1], [1,1,0,1,0,0,0,1,1,1], [1,1,0,1,1,1,1,1,1]] # 3 ->3\n",
        "\n",
        "def find_row(zal, n):\n",
        "    for row_ix in range(len(zal)) :\n",
        "        row = zal[row_ix]\n",
        "        free_in_row = 0\n",
        "        for seat in row :\n",
        "            if 0 == seat:\n",
        "                free_in_row += 1\n",
        "                if (free_in_row == n):\n",
        "                    return row_ix\n",
        "            else:\n",
        "                free_in_row = 0\n",
        "    return -1\n",
        "\n",
        "def test():\n",
        "    if find_row(ex1, 2) != 1 :\n",
        "        return False\n",
        "    if find_row(ex2, 2) != -1 :\n",
        "        return False\n",
        "    if find_row(myex1, 8 ) != -1 :\n",
        "        print('myex1 7 != -1')\n",
        "        return False\n",
        "    if find_row(myex1, 7 ) != 2 :\n",
        "        print('myex1 5 != 2')\n",
        "        return False\n",
        "    if find_row(myex2, 3 ) != 3 :\n",
        "        print('myex2 3 != 3')\n",
        "        return False\n",
        "    return True\n",
        "\n",
        "if not test():\n",
        "    print(\"sorry it doesn't work\")\n",
        "    sys.exit(0)\n",
        "\n",
        "print(\"test passed\")"
      ],
      "metadata": {
        "colab": {
          "base_uri": "https://localhost:8080/"
        },
        "id": "LKFCV5ASAcnU",
        "outputId": "96b9253f-6d5d-4f79-f0a7-77a068e8f3c1"
      },
      "execution_count": 2,
      "outputs": [
        {
          "output_type": "stream",
          "name": "stdout",
          "text": [
            "test passed\n"
          ]
        }
      ]
    },
    {
      "cell_type": "markdown",
      "source": [
        "Написать упрощенную версию алгоритма RLE. Алгоритм RLE объединяет подряд идущие символы в коэффициент и символ.\n",
        "Пример:\n",
        "aaabbbbccccc -> 2a4b5c\n",
        "asssdddsssddd -> 1a3s3d3s3d\n",
        "abcba -> 1a1b1c1b1a"
      ],
      "metadata": {
        "id": "Q6LNe-q_Ao59"
      }
    },
    {
      "cell_type": "code",
      "source": [
        "import sys\n",
        "\n",
        "def rle(s):\n",
        "    if not len(s):\n",
        "        return s\n",
        "    res = \"\"\n",
        "    rep = 1\n",
        "    for ix in range(len(s) -1) :\n",
        "        if s[ix] == s[ix + 1]:\n",
        "            rep += 1\n",
        "        else:\n",
        "            res += str(rep) + s[ix]\n",
        "            rep = 1\n",
        "    res += str(rep) + s[-1]\n",
        "    return res\n",
        "\n",
        "def check(s, r):\n",
        "    if rle(s) == r:\n",
        "        return True\n",
        "    return False\n",
        "\n",
        "def test():\n",
        "    if not check('aaabbbbccccc', '3a4b5c'):\n",
        "        return False\n",
        "    if not check('asssdddsssddd', '1a3s3d3s3d'):\n",
        "        return False\n",
        "    if not check('abcba', '1a1b1c1b1a'):\n",
        "        return False\n",
        "    if not check('1', '11'):\n",
        "        return False\n",
        "    return True\n",
        "\n",
        "if not test():\n",
        "    print(\"sorry it doesn't work\")\n",
        "    sys.exit(0)\n",
        "\n",
        "print(\"test passed\")\n"
      ],
      "metadata": {
        "colab": {
          "base_uri": "https://localhost:8080/"
        },
        "id": "Hiweta0aAq-u",
        "outputId": "1b93793d-cdee-4c61-ea28-2904c4d19c52"
      },
      "execution_count": 3,
      "outputs": [
        {
          "output_type": "stream",
          "name": "stdout",
          "text": [
            "test passed\n"
          ]
        }
      ]
    },
    {
      "cell_type": "markdown",
      "source": [
        "Шифр Цезаря. Пользователь вводит строку и ключ шифра, программа должна вывести зашифрованную строку (со сдвигом по ключу). Сдвиг циклический. Используем только латинский алфавит, пробелы не шифруются.\n"
      ],
      "metadata": {
        "id": "SR2v2D2vBACl"
      }
    },
    {
      "cell_type": "code",
      "source": [
        "import sys\n",
        "\n",
        "# A 65 Z 90 a 97 z 122\n",
        "\n",
        "def conv(chi, shft, k):\n",
        "    return chr(((chi - shft) + k) % 26 + shft)\n",
        "\n",
        "def locase(ch, k):\n",
        "    shft = ord('a')\n",
        "    chi = ord(ch)\n",
        "    return conv(chi, shft, k)\n",
        "\n",
        "def upcase(ch, k):\n",
        "    shft = ord('A')\n",
        "    chi = ord(ch)\n",
        "    return conv(chi, shft, k)\n",
        "\n",
        "def ces(s, k):\n",
        "    ou = ''\n",
        "    for ch in s:\n",
        "        if( ch >= 'a' and ch <= 'z'):\n",
        "            ou += locase(ch, k)\n",
        "        elif( ch >= 'A' and ch <= 'Z'):\n",
        "            ou += upcase(ch, k)\n",
        "        elif( ch == ' '):\n",
        "            ou += ' '\n",
        "    return ou\n",
        "\n",
        "def check(s, k, etalon ):\n",
        "    if ces(s, k) == etalon:\n",
        "        return True\n",
        "    err = ces(s, k)\n",
        "    print(f'ces({s},{k}) must be {etalon} but it is {err}')\n",
        "    return False\n",
        "\n",
        "def test():\n",
        "    if not check('Dog', 2, 'Fqi'):\n",
        "        return False\n",
        "    if not check('Zak zak', 3, 'Cdn cdn'):\n",
        "        return False\n",
        "    if not check('Python is the BEST', 5, 'Udymts nx ymj GJXY'):\n",
        "        return False\n",
        "    return True\n",
        "\n",
        "if not test():\n",
        "    print(\"sorry it doesn't work\")\n",
        "    sys.exit(0)\n",
        "\n",
        "ks = input('enter key (1 symbol): ')\n",
        "if not ks.isdigit():\n",
        "    print(\"wrong key (not a digit)\")\n",
        "    sys.exit(0)\n",
        "\n",
        "k = int(ks)\n",
        "s = input('enter sentence: ')\n",
        "o = ces(s, k)\n",
        "print(f'encrypted as {o}')\n"
      ],
      "metadata": {
        "colab": {
          "base_uri": "https://localhost:8080/"
        },
        "id": "FHI7aD7oBC4Y",
        "outputId": "8082a127-e5d9-4f98-86e9-ab207d8ad505"
      },
      "execution_count": 5,
      "outputs": [
        {
          "output_type": "stream",
          "name": "stdout",
          "text": [
            "enter key (1 symbol): 1\n",
            "enter sentence: zab\n",
            "encrypted as abc\n"
          ]
        }
      ]
    },
    {
      "cell_type": "markdown",
      "source": [
        "Табель успеваемости. Пользователь в бесконечном цикле (пока не будет введена пустая строка) вводит строки вида: 'название предмета' 'фамилия ученика' 'оценка'. После окончания ввода программа выводит в консоль название предмета, далее список учеников и все их оценки в виде таблицы."
      ],
      "metadata": {
        "id": "R2dxdjt2BaMO"
      }
    },
    {
      "cell_type": "code",
      "source": [
        "subjs = {}\n",
        "while True:\n",
        "    inp = input('Enter subj name mark : ')\n",
        "    if ( 0 == len(inp) ):\n",
        "        break\n",
        "    lst = inp.split();\n",
        "    if ( 3 != len(lst) ):\n",
        "        print('wrong input')\n",
        "        continue\n",
        "    # for not to mess with [[[]]]\n",
        "    # intoduce subj nm mrk\n",
        "    subj = lst[0]\n",
        "    nm = lst[1]\n",
        "    mrk = lst[2]\n",
        "    if not subj in subjs:\n",
        "        subjs[subj] = {}\n",
        "    if not nm in subjs[subj]:\n",
        "        subjs[subj][nm] = {}\n",
        "        subjs[subj][nm] = []\n",
        "    subjs[subj][nm].append(mrk)\n",
        "\n",
        "print(\"\") # line end at the begin\n",
        "for subj in subjs:\n",
        "    print(subj)\n",
        "    for pup in subjs[subj]:\n",
        "        print(pup, \" \", end=\"\")\n",
        "        for mrk in subjs[subj][pup]:\n",
        "            print(mrk, \" \",  end=\"\")\n",
        "        print(\"\") # line end for puple\n",
        "    print(\"\") # line end for subject\n"
      ],
      "metadata": {
        "colab": {
          "base_uri": "https://localhost:8080/"
        },
        "id": "MdyFNLo8BkOm",
        "outputId": "3e091a23-722b-4d50-cf63-1b7c55f154f3"
      },
      "execution_count": 6,
      "outputs": [
        {
          "output_type": "stream",
          "name": "stdout",
          "text": [
            "Enter subj name mark : Математика Иванов 5\n",
            "Enter subj name mark : Математика Иванов 4\n",
            "Enter subj name mark : Литература Иванов 3\n",
            "Enter subj name mark : Математика Петров 5\n",
            "Enter subj name mark : Литература Сидоров 3\n",
            "Enter subj name mark : Литература Петров 5\n",
            "Enter subj name mark : Литература Иванов 4\n",
            "Enter subj name mark : Математика Сидоров 3\n",
            "Enter subj name mark : Математика Петров 5\n",
            "Enter subj name mark : \n",
            "\n",
            "Математика\n",
            "Иванов  5  4  \n",
            "Петров  5  5  \n",
            "Сидоров  3  \n",
            "\n",
            "Литература\n",
            "Иванов  3  4  \n",
            "Сидоров  3  \n",
            "Петров  5  \n",
            "\n"
          ]
        }
      ]
    }
  ]
}